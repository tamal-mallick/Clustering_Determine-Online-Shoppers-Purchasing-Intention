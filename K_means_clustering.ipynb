{
  "nbformat": 4,
  "nbformat_minor": 0,
  "metadata": {
    "colab": {
      "name": "Assigment5_P1.ipynb",
      "provenance": [],
      "collapsed_sections": [],
      "include_colab_link": true
    },
    "kernelspec": {
      "name": "python3",
      "display_name": "Python 3"
    }
  },
  "cells": [
    {
      "cell_type": "markdown",
      "metadata": {
        "id": "view-in-github",
        "colab_type": "text"
      },
      "source": [
        "<a href=\"https://colab.research.google.com/github/tamal-mallick/Determining-Online-Shoppers-Purchasing-Intention-using-Clustering/blob/main/K_means_clustering.ipynb\" target=\"_parent\"><img src=\"https://colab.research.google.com/assets/colab-badge.svg\" alt=\"Open In Colab\"/></a>"
      ]
    },
    {
      "cell_type": "code",
      "metadata": {
        "id": "ZSg5ieDpv48z",
        "colab": {
          "base_uri": "https://localhost:8080/"
        },
        "outputId": "81536c97-6c1c-4b0c-ac9f-03e99589ec3b"
      },
      "source": [
        "import pandas as pd\n",
        "import numpy as np\n",
        "\n",
        "from sklearn.cluster import KMeans\n",
        "# Calculate silhouette_score\n",
        "from sklearn.metrics import silhouette_score\n",
        "\n",
        "import warnings\n",
        "warnings.filterwarnings(\"ignore\")\n",
        "\n",
        "from google.colab import drive\n",
        "drive.mount('/gdrive')\n",
        "#Change current working directory to gdrive\n",
        "%cd /gdrive\n"
      ],
      "execution_count": null,
      "outputs": [
        {
          "output_type": "stream",
          "text": [
            "Mounted at /gdrive\n",
            "/gdrive\n"
          ],
          "name": "stdout"
        }
      ]
    },
    {
      "cell_type": "code",
      "metadata": {
        "id": "koATKzV8wfAR",
        "colab": {
          "base_uri": "https://localhost:8080/"
        },
        "outputId": "bea44249-6948-465e-9c99-89554eb64317"
      },
      "source": [
        "#Read files\n",
        "trainfile = r'/gdrive/My Drive/OSI.csv'\n",
        "trainData = pd.read_csv(trainfile) #creates a dataframe\n",
        "\n",
        "print(trainData.shape)\n",
        "print(trainData.info())\n",
        "\n",
        "\n",
        "#define x_train and y_train \n",
        "X_train = trainData.drop([\"Revenue\"], axis=1)\n",
        "y_train = trainData [\"Revenue\"]\n",
        "\n",
        "print(y_train.value_counts())\n",
        "\n",
        "Percentage= (y_train[y_train==True].sum())/(y_train.count().sum())\n",
        "print(Percentage)\n",
        "\n",
        "\n",
        "print(\"X_train DataShape\", X_train.shape)\n",
        "print(\"y_train DataShape\", y_train.shape)"
      ],
      "execution_count": null,
      "outputs": [
        {
          "output_type": "stream",
          "text": [
            "(12330, 18)\n",
            "<class 'pandas.core.frame.DataFrame'>\n",
            "RangeIndex: 12330 entries, 0 to 12329\n",
            "Data columns (total 18 columns):\n",
            " #   Column                   Non-Null Count  Dtype  \n",
            "---  ------                   --------------  -----  \n",
            " 0   Administrative           12330 non-null  int64  \n",
            " 1   Administrative_Duration  12330 non-null  float64\n",
            " 2   Informational            12330 non-null  int64  \n",
            " 3   Informational_Duration   12330 non-null  float64\n",
            " 4   ProductRelated           12330 non-null  int64  \n",
            " 5   ProductRelated_Duration  12330 non-null  float64\n",
            " 6   BounceRates              12330 non-null  float64\n",
            " 7   ExitRates                12330 non-null  float64\n",
            " 8   PageValues               12330 non-null  float64\n",
            " 9   SpecialDay               12330 non-null  float64\n",
            " 10  Month                    12330 non-null  object \n",
            " 11  OperatingSystems         12330 non-null  int64  \n",
            " 12  Browser                  12330 non-null  int64  \n",
            " 13  Region                   12330 non-null  int64  \n",
            " 14  TrafficType              12330 non-null  int64  \n",
            " 15  VisitorType              12330 non-null  object \n",
            " 16  Weekend                  12330 non-null  bool   \n",
            " 17  Revenue                  12330 non-null  bool   \n",
            "dtypes: bool(2), float64(7), int64(7), object(2)\n",
            "memory usage: 1.5+ MB\n",
            "None\n",
            "False    10422\n",
            "True      1908\n",
            "Name: Revenue, dtype: int64\n",
            "0.15474452554744525\n",
            "X_train DataShape (12330, 17)\n",
            "y_train DataShape (12330,)\n"
          ],
          "name": "stdout"
        }
      ]
    },
    {
      "cell_type": "code",
      "metadata": {
        "id": "unkHBKs6qGLr",
        "colab": {
          "base_uri": "https://localhost:8080/"
        },
        "outputId": "56c89bd5-03be-404f-a36a-8cc3cca7dd42"
      },
      "source": [
        "#one hot encoding \n",
        "X_cat = [\"Month\", \"VisitorType\", \"Weekend\"]\n",
        "X_train = pd.get_dummies ( X_train, columns = X_cat)\n",
        "\n",
        "print(X_train.shape)\n"
      ],
      "execution_count": null,
      "outputs": [
        {
          "output_type": "stream",
          "text": [
            "(12330, 29)\n"
          ],
          "name": "stdout"
        }
      ]
    },
    {
      "cell_type": "code",
      "metadata": {
        "id": "bVYlCB9ZtIrm",
        "colab": {
          "base_uri": "https://localhost:8080/"
        },
        "outputId": "0cc208d1-a516-4270-cb21-9a90ce1ce695"
      },
      "source": [
        "#K-Means Clustering ========================================================================\n",
        "#Default Mode - K=8\n",
        "kmeans = KMeans(n_clusters = 8)\n",
        "print(kmeans)\n",
        "kmeans.fit(X_train)\n",
        "#kmeans.labels_\n",
        "#kmeans.cluster_centers_\n",
        "#Print Silhouette measure\n",
        "print(silhouette_score(X_train, kmeans.labels_))\n"
      ],
      "execution_count": null,
      "outputs": [
        {
          "output_type": "stream",
          "text": [
            "KMeans(algorithm='auto', copy_x=True, init='k-means++', max_iter=300,\n",
            "       n_clusters=8, n_init=10, n_jobs=None, precompute_distances='auto',\n",
            "       random_state=None, tol=0.0001, verbose=0)\n",
            "0.5626547345360984\n"
          ],
          "name": "stdout"
        }
      ]
    },
    {
      "cell_type": "code",
      "metadata": {
        "id": "3C1dZ1g0Gy0E",
        "colab": {
          "base_uri": "https://localhost:8080/"
        },
        "outputId": "506dbc5c-6b72-49ec-c394-43ae917aea98"
      },
      "source": [
        "#K-Means Clustering ========================================================================\n",
        "#K=10\n",
        "kmeans = KMeans(n_clusters = 10)\n",
        "kmeans.fit(X_train)\n",
        "\n",
        "#kmeans.labels_\n",
        "#kmeans.cluster_centers_\n",
        "#Print Silhouette measure\n",
        "print(silhouette_score(X_train, kmeans.labels_))"
      ],
      "execution_count": null,
      "outputs": [
        {
          "output_type": "stream",
          "text": [
            "0.5143416201705692\n"
          ],
          "name": "stdout"
        }
      ]
    },
    {
      "cell_type": "code",
      "metadata": {
        "id": "Q1HxPUSa6ZyL",
        "colab": {
          "base_uri": "https://localhost:8080/"
        },
        "outputId": "0e43ae09-5094-4d0b-9177-9521decf3d19"
      },
      "source": [
        "#K-Means Clustering ========================================================================\n",
        "#K=12\n",
        "kmeans = KMeans(n_clusters = 12)\n",
        "kmeans.fit(X_train)\n",
        "#kmeans.labels_\n",
        "#kmeans.cluster_centers_\n",
        "#Print Silhouette measure\n",
        "print(silhouette_score(X_train, kmeans.labels_))"
      ],
      "execution_count": null,
      "outputs": [
        {
          "output_type": "stream",
          "text": [
            "0.5016480217227228\n"
          ],
          "name": "stdout"
        }
      ]
    },
    {
      "cell_type": "code",
      "metadata": {
        "id": "t9Wd5BoJ61cX",
        "colab": {
          "base_uri": "https://localhost:8080/"
        },
        "outputId": "8c51218a-6ff1-497c-da77-649e4d750529"
      },
      "source": [
        "#K-Means Clustering ========================================================================\n",
        "#K=2\n",
        "kmeans = KMeans(n_clusters = 2)\n",
        "kmeans.fit(X_train)\n",
        "#kmeans.labels_\n",
        "#kmeans.cluster_centers_\n",
        "#Print Silhouette measure\n",
        "print(silhouette_score(X_train, kmeans.labels_))\n"
      ],
      "execution_count": null,
      "outputs": [
        {
          "output_type": "stream",
          "text": [
            "0.7814615787700508\n"
          ],
          "name": "stdout"
        }
      ]
    },
    {
      "cell_type": "code",
      "metadata": {
        "id": "vFvzgJj87EVT",
        "colab": {
          "base_uri": "https://localhost:8080/"
        },
        "outputId": "00f30a69-0dc9-40d4-eb9b-e9814f071a41"
      },
      "source": [
        "#K-Means Clustering ========================================================================\n",
        "#K=2\n",
        "kmeans = KMeans(n_clusters = 2, max_iter=500, n_init=40, \n",
        "                tol=0.1, precompute_distances= False)\n",
        "kmeans.fit(X_train)\n",
        "#Print Silhouette measure\n",
        "print(silhouette_score(X_train, kmeans.labels_))\n",
        "\n",
        "#Add Cluster Number to each datapoint + save file\n",
        "df_kmeans=X_train\n",
        "kmeans_predict_train=kmeans.predict(X_train)\n",
        "\n",
        "df_kmeans['Cluster Number']=kmeans_predict_train\n",
        "df_kmeans[\"Target\"] = y_train \n",
        "print(df_kmeans.shape)\n",
        "df_kmeans.head()\n",
        "df_kmeans.dtypes\n",
        "\n",
        "print(X_train.columns.values.tolist())\n",
        "print(kmeans.cluster_centers_)\n",
        "\n",
        "export_csv = df_kmeans.to_csv(r'/gdrive/My Drive/OSI-Kmeans2.csv')\n"
      ],
      "execution_count": null,
      "outputs": [
        {
          "output_type": "stream",
          "text": [
            "0.7835095137870266\n",
            "(12330, 31)\n",
            "['Administrative', 'Administrative_Duration', 'Informational', 'Informational_Duration', 'ProductRelated', 'ProductRelated_Duration', 'BounceRates', 'ExitRates', 'PageValues', 'SpecialDay', 'OperatingSystems', 'Browser', 'Region', 'TrafficType', 'Month_Aug', 'Month_Dec', 'Month_Feb', 'Month_Jul', 'Month_June', 'Month_Mar', 'Month_May', 'Month_Nov', 'Month_Oct', 'Month_Sep', 'VisitorType_New_Visitor', 'VisitorType_Other', 'VisitorType_Returning_Visitor', 'Weekend_False', 'Weekend_True', 'Cluster Number', 'Target']\n",
            "[[5.68125701e+00 2.10534481e+02 1.77890011e+00 1.48072816e+02\n",
            "  1.37791246e+02 6.21572136e+03 6.55941546e-03 2.07622333e-02\n",
            "  7.31863005e+00 4.64646465e-02 2.14253648e+00 2.34792368e+00\n",
            "  2.92143659e+00 3.63636364e+00 3.70370370e-02 1.13355780e-01\n",
            "  3.36700337e-03 3.70370370e-02 2.35690236e-02 5.72390572e-02\n",
            "  1.66105499e-01 4.80359147e-01 4.26487093e-02 3.92817059e-02\n",
            "  1.90796857e-02 3.36700337e-03 9.77553311e-01 7.68799102e-01\n",
            "  2.31200898e-01]\n",
            " [2.05297666e+00 7.07148567e+01 4.04231139e-01 2.56238996e+01\n",
            "  2.34703208e+01 8.03655316e+02 2.34089765e-02 4.48105994e-02\n",
            "  5.77792203e+00 6.25928840e-02 2.12256316e+00 2.35781100e+00\n",
            "  3.16496197e+00 4.10333071e+00 3.49680916e-02 1.42145292e-01\n",
            "  1.58230615e-02 3.48806714e-02 2.33412012e-02 1.62251945e-01\n",
            "  2.81143457e-01 2.24669989e-01 4.46717370e-02 3.61045546e-02\n",
            "  1.46603724e-01 7.16845878e-03 8.46227817e-01 7.67287350e-01\n",
            "  2.32712650e-01]]\n"
          ],
          "name": "stdout"
        }
      ]
    }
  ]
}